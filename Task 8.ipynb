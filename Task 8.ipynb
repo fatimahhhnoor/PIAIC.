{
 "cells": [
  {
   "cell_type": "code",
   "execution_count": 26,
   "metadata": {},
   "outputs": [
    {
     "name": "stdout",
     "output_type": "stream",
     "text": [
      "fatimaahhh\n",
      "the first number is 5\n",
      "the second number is 7\n",
      "the third number is 8\n",
      "hello!lets explore the numbers:\n",
      "number 5 is odd\n",
      "number 7 is odd\n",
      "number  8 is even\n",
      "Here are some interesting pairs of numbers and their squares:\n",
      "Number: 2, which when squared becomes: 4\n",
      "Number: 4, which when squared becomes: 16\n",
      "Number: 1, which when squared becomes: 1\n",
      "Amazing! sum  of all these numbers : 7\n",
      "WOW! 7 is  a prime number\n"
     ]
    }
   ],
   "source": [
    "name=input(\"enter your name\")\n",
    "num1=input(\"enter first number\")\n",
    "num1=int(num1)\n",
    "num2=input(\"enter second number\")\n",
    "num2=int(num2)\n",
    "num3=input(\"enter third number\")\n",
    "num3=int(num3)\n",
    "print(name)\n",
    "print(f'the first number is {num1}')\n",
    "print(f'the second number is {num2}')\n",
    "print(f'the third number is {num3}')\n",
    "print(f\"hello!lets explore the numbers:\")\n",
    "if  num1 % 2==0 :\n",
    "    print(f\"number {num1} is even\")\n",
    "else:\n",
    "    print(f\"number {num1} is odd\")\n",
    "if  num2 % 2==0 :\n",
    "    print(f\"number {num2} is even\")\n",
    "else:\n",
    "    print(f\"number {num2} is odd\")\n",
    "if  num3 % 2==0 :\n",
    "    print(f\"number  {num3} is even\")\n",
    "else:\n",
    "    print(f\"number  {num3} is odd\")\n",
    "numbers = [2,4,1]\n",
    "squares = []\n",
    "total_sum = 0\n",
    "for num in numbers:\n",
    "    square = num ** 2\n",
    "    squares.append((num, square))\n",
    "    total_sum += num\n",
    "print(\"Here are some interesting pairs of numbers and their squares:\")\n",
    "for number, square in squares:\n",
    "    print(f\"Number: {number}, which when squared becomes: {square}\")\n",
    "print(f\"Amazing! sum  of all these numbers : {total_sum}\")\n",
    "if num==0 or num==1:\n",
    "    print(f'WOW! {total_sum} is  a prime number')\n",
    "else:\n",
    "    print(f\"{total_sum} is  not a prime number\")\n",
    "\n",
    "\n",
    "\n",
    "\n",
    "\n",
    "    \n",
    "\n"
   ]
  },
  {
   "cell_type": "code",
   "execution_count": null,
   "metadata": {},
   "outputs": [],
   "source": []
  }
 ],
 "metadata": {
  "kernelspec": {
   "display_name": "Python 3",
   "language": "python",
   "name": "python3"
  },
  "language_info": {
   "codemirror_mode": {
    "name": "ipython",
    "version": 3
   },
   "file_extension": ".py",
   "mimetype": "text/x-python",
   "name": "python",
   "nbconvert_exporter": "python",
   "pygments_lexer": "ipython3",
   "version": "3.12.2"
  }
 },
 "nbformat": 4,
 "nbformat_minor": 2
}
